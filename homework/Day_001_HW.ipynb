{
  "nbformat": 4,
  "nbformat_minor": 5,
  "metadata": {
    "kernelspec": {
      "display_name": "Python 3",
      "language": "python",
      "name": "python3"
    },
    "language_info": {
      "codemirror_mode": {
        "name": "ipython",
        "version": 3
      },
      "file_extension": ".py",
      "mimetype": "text/x-python",
      "name": "python",
      "nbconvert_exporter": "python",
      "pygments_lexer": "ipython3",
      "version": "3.7.8"
    },
    "colab": {
      "name": "DAY001.ipynb",
      "provenance": []
    }
  },
  "cells": [
    {
      "cell_type": "markdown",
      "metadata": {
        "id": "IHPWdapLtDKc"
      },
      "source": [
        "# **[作業1]**\n",
        "\n",
        "---\n",
        "\n",
        "\n"
      ],
      "id": "IHPWdapLtDKc"
    },
    {
      "cell_type": "code",
      "metadata": {
        "trusted": true,
        "id": "SgX-1KVis94T"
      },
      "source": [
        "import numpy as np \n",
        "import matplotlib.pyplot as plt"
      ],
      "id": "SgX-1KVis94T",
      "execution_count": null,
      "outputs": []
    },
    {
      "cell_type": "code",
      "metadata": {
        "trusted": true,
        "id": "OW0NSu7os94U"
      },
      "source": [
        "def mean_absolute_error(y,yp):\n",
        "    mae=MAE=sum(abs(y-yp))/len(y)\n",
        "    return mae\n",
        "def mean_squared_error(y,yp):\n",
        "    mse=MSE=sum((y-yp)**2)/len(y)\n",
        "    return mse"
      ],
      "id": "OW0NSu7os94U",
      "execution_count": null,
      "outputs": []
    },
    {
      "cell_type": "code",
      "metadata": {
        "trusted": true,
        "id": "Onyd3hags94U",
        "outputId": "f6e5cdd9-55d7-49fd-8b42-48470620e7c9"
      },
      "source": [
        "w = 3\n",
        "b = 0.5\n",
        "x_lin = np.linspace(0, 100, 101)     #0到100取101等分\n",
        "y = (x_lin + np.random.randn(101) * 5) * w + b\n",
        "\n",
        "plt.plot(x_lin, y, 'b.', label = 'data points')\n",
        "plt.title(\"Assume we have data points\")\n",
        "plt.legend(loc = 2)                  #loc設置圖利位置 #2:Upper left\n",
        "plt.show()"
      ],
      "id": "Onyd3hags94U",
      "execution_count": null,
      "outputs": [
        {
          "output_type": "display_data",
          "data": {
            "text/plain": [
              "<Figure size 432x288 with 1 Axes>"
            ],
            "image/png": "[encoded data removed]"
          },
          "metadata": {
            "tags": [],
            "needs_background": "light"
          }
        }
      ]
    },
    {
      "cell_type": "code",
      "metadata": {
        "trusted": true,
        "id": "2OG2EnDGs94W",
        "outputId": "5a836aa4-0ec4-43b2-ac22-1e9373e51df5"
      },
      "source": [
        "y_hat = x_lin * w + b\n",
        "plt.plot(x_lin, y, 'b.', label = 'data')    \n",
        "plt.plot(x_lin, y_hat, 'r-', label = 'prediction')\n",
        "plt.title(\"Assume we have data points (And the prediction)\")\n",
        "plt.legend(loc = 2)\n",
        "plt.show()"
      ],
      "id": "2OG2EnDGs94W",
      "execution_count": null,
      "outputs": [
        {
          "output_type": "display_data",
          "data": {
            "text/plain": [
              "<Figure size 432x288 with 1 Axes>"
            ],
            "image/png": "[encoded data removed]"
          },
          "metadata": {
            "tags": [],
            "needs_background": "light"
          }
        }
      ]
    },
    {
      "cell_type": "code",
      "metadata": {
        "trusted": true,
        "id": "yoVM2KRQs94X",
        "outputId": "0012e8e8-8664-4f9e-f65d-ef5b1854132c"
      },
      "source": [
        "MSE = mean_squared_error(y, y_hat)\n",
        "MAE = mean_absolute_error(y, y_hat)\n",
        "print(\"The Mean squared error is %.3f\" % (MSE))\n",
        "print(\"The Mean absolute error is %.3f\" % (MAE))"
      ],
      "id": "yoVM2KRQs94X",
      "execution_count": null,
      "outputs": [
        {
          "output_type": "stream",
          "text": [
            "The Mean squared error is 210.776\n",
            "The Mean absolute error is 11.886\n"
          ],
          "name": "stdout"
        }
      ]
    },
    {
      "cell_type": "markdown",
      "metadata": {
        "id": "oM_t9Mo4s94X"
      },
      "source": [
        "# **[作業2]**\n",
        "\n",
        "---\n",
        "\n"
      ],
      "id": "oM_t9Mo4s94X"
    },
    {
      "cell_type": "markdown",
      "metadata": {
        "id": "gH61ziCHs94Y"
      },
      "source": [
        "**Source from** :https://www.kaggle.com/radmirzosimov/telecom-users-dataset\n",
        "\n",
        "\n",
        "\n",
        "\n",
        "\n",
        "\n",
        "\n",
        "\n",
        "#### **1.  你選的這組資料為何重要**\n",
        "\n",
        "Ans : 不可否認的是，留住舊客戶比吸引新客戶所需之成本低。我們可以藉由客戶的使用數據，即時發現即將流失的舊客戶，採取相應隊的方案(如:提供優惠，客服諮詢.等)，以確保公司穩定獲利。\n",
        "\n",
        "\n",
        "\n",
        "\n",
        "#### **2.   資料從何而來 (tips: 譬如提供者是誰、以什麼方式蒐集)**\n",
        "Ans : 電信公司的人從網路數據使用者的消費習慣、付款方式、付款金額、使用時間...等紀錄蒐集而來，以Spreadsheet儲存。\n",
        "\n",
        "\n",
        "\n",
        "\n",
        "\n",
        "\n",
        "\n",
        "#### **3.   蒐集而來的資料型態為何**\n",
        "\n",
        "Ans : 屬於結構化資料型態(表格)，大部分的資料都是類別資料跟文字 (quality) 只有少部分是數值資料 (quantity)\n",
        "\n",
        "\n",
        "\n",
        "\n",
        "\n",
        "#### **4.這組資料想解決的問題如何評估**\n",
        "Ans : 該筆資料主要想要找到即將流失的客戶，因此這是一個分類問題，衡量指標為Accuracy\n",
        "\n",
        "\n",
        "\n",
        "\n",
        "\n",
        "\n"
      ],
      "id": "gH61ziCHs94Y"
    },
    {
      "cell_type": "markdown",
      "metadata": {
        "id": "tEHZ1aDCs94Y"
      },
      "source": [
        "# **[作業3]**\n",
        "\n",
        "---\n",
        "\n"
      ],
      "id": "tEHZ1aDCs94Y"
    },
    {
      "cell_type": "markdown",
      "metadata": {
        "id": "7bP8aAP7s94Y"
      },
      "source": [
        ">**問題 : 想像你經營一個自由載客車隊，你希望能透過數據分析以提升業績，請你思考並描述你如何規劃整體的分析/解決方案**\n",
        "\n",
        "\n",
        "\n",
        "\n",
        "\n",
        "\n",
        "\n",
        "\n",
        "#### **1.核心問題為何 (tips：如何定義 「提升業績 & 你的假設」)**\n",
        "Ans : 以車隊營運主人的角度出發，我認為最關鍵的問題是增加客源(如:在宣傳渠道、折扣策略、特殊活動..等方面做A/B testing)及以提高載客效率(透過系統優化或獎勵機制讓司機能夠更接近客人)。\n",
        "\n",
        "\n",
        "####**2.資料從何而來 (tips：哪些資料可能會對你想問的問題產生影響 & 資料如何蒐集)*****\n",
        "Ans : \n",
        "\n",
        "*   **不同場所在不同時間點對計程車的需求量:**\n",
        "\n",
        "(1) 自己蒐集或是委外請人收集:鎖定在特定的場所，舉凡車站、百貨公司、機場..等地派人駐守，紀錄搭乘計程車的數量。\n",
        "\n",
        "(2) 上政府單位蒐集各大景點或是交通運輸中心的人潮流量資料。\n",
        "\n",
        "(3) 若該車隊有自己的叫車APP (如 呼叫小黃 / Uber / Grab ) 便可以透過這些資料分析那些時間及地點對於計程車的需求較高。 \n",
        "\n",
        "(4) 藉由市場調查來了解消費者對於載客車的需求與喜好\n",
        "\n",
        "\n",
        "\n",
        "*   **增加客源的方案可不可行:**\n",
        "\n",
        "(1)透過試行方案來載客量評估客人叫車率是否提高。\n",
        "\n",
        "(2)藉由專業行銷顧問團隊分析評估。\n",
        "\n",
        "\n",
        "####**3.蒐集而來的資料型態為何**\n",
        "Ans : 大部分都都是數值資料，且具有時間相關，少部分可能是文字資料 (市調)\n",
        "\n",
        "\n",
        "####**4.你要回答的問題，其如何評估 (tips：你的假設如何驗證)**\n",
        "Ans : 這應該是一個Regression problem，我們期許透過行銷企劃或經營策略來提高業績，希望那些變數跟業績有很高的相關性，也就是那些變數可以有效地解釋業績。\n",
        "\n",
        "若我們針對該問題建構回歸模型，模型評估指標將會是 MSE ，若R square 越高，MSE越低，則藉由變數解釋業績的效果越高越好(當然這裡不只侷限在線性模型)。\n",
        "\n"
      ],
      "id": "7bP8aAP7s94Y"
    }
  ]
}