{
  "nbformat": 4,
  "nbformat_minor": 0,
  "metadata": {
    "colab": {
      "name": "Day_002_HW.ipynb",
      "provenance": []
    },
    "kernelspec": {
      "name": "python3",
      "display_name": "Python 3"
    },
    "language_info": {
      "name": "python"
    }
  },
  "cells": [
    {
      "cell_type": "markdown",
      "metadata": {
        "id": "nRb_CBJZM0RP"
      },
      "source": [
        "##**作業問題：思考題_請找出一個你認為機器學習可以發光發熱的領域並闡述原因?**"
      ]
    },
    {
      "cell_type": "markdown",
      "metadata": {
        "id": "2pncsbzdM5i4"
      },
      "source": [
        "Ans : \n",
        "\n",
        "\n",
        "可以用在銀行業的信用評分上。\n",
        "\n",
        "原因:\n",
        "\n",
        "1.信用評分系統裡的客戶資料容易結構化。\n",
        "\n",
        "2.可以根據之前客戶的金融歷史紀錄檢測模型的好壞。\n",
        "\n",
        "3.銀行本身方便蒐集客戶的資料(消費紀錄或是直接請客戶填表單等)。\n"
      ]
    }
  ]
}